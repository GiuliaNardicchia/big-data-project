{
 "cells": [
  {
   "cell_type": "markdown",
   "id": "45909d062047387d",
   "metadata": {},
   "source": [
    "# Obiettivo del progetto\n",
    "Dopo aver analizzato e compreso i dati, si vuole studiare meglio la correlazione riscontrata tra distanza e prezzo e si è individuato l'obiettivo del progetto. L'obiettivo è quello di verificare se c’è una stagionalità, nella quale i prezzi per alcuni mesi sono molto più elevati rispetto ad altri o se ci sono grandi variazioni di prezzo tra i diversi mesi rispetto alle diverse distanze."
   ]
  },
  {
   "cell_type": "markdown",
   "id": "6ff5699d07ef8e27",
   "metadata": {},
   "source": [
    "## Descrizione del job proposto\n",
    "Avendo a disposizione un solo file *.csv* si è pensato si usare un pattern di tipo *self-join*:\n",
    "-\t**Prima aggregazione**: aggregare per ogni combinazione di aeroporto di partenza e destinazione (*startingAeroport* e *destinationAeroport*) per ottenere la distanza media di viaggio (*totalTravelDistance*). A partire dalla distanza media generare una nuova colonna che indichi la fascia di distanza del volo (breve distanza, media distanza, lunga distanza);\n",
    "-\t**Join**: unire il dataset originale con il risultato ottenuto;\n",
    "-\t**Seconda aggregazione**: aggregare per fascia di distanza e mese (*flightDate*, da cui si ricava il mese) per ottenere per ciascuna combinazione il prezzo medio."
   ]
  },
  {
   "cell_type": "markdown",
   "id": "ae506c8e35674206",
   "metadata": {},
   "source": [
    "### Caricamento libreria Spark\n",
    "\n",
    "Per prima cosa, si deve importare la libreria spark per avviare una `spark-shell`; in seguito verrà mostrato il link tramite il quale è possibile accedere all'interfaccia utente di Spark."
   ]
  },
  {
   "cell_type": "code",
   "execution_count": 1,
   "id": "fb23d8dd5e72ce9b",
   "metadata": {
    "ExecuteTime": {
     "end_time": "2025-01-15T19:32:45.498490Z",
     "start_time": "2025-01-15T19:32:45.162280Z"
    }
   },
   "outputs": [
    {
     "data": {
      "text/plain": [
       "Intitializing Scala interpreter ..."
      ]
     },
     "metadata": {},
     "output_type": "display_data"
    },
    {
     "data": {
      "text/plain": [
       "Spark Web UI available at http://192.168.1.9:4040\n",
       "SparkContext available as 'sc' (version = 3.5.1, master = local[*], app id = local-1736970020996)\n",
       "SparkSession available as 'spark'\n"
      ]
     },
     "metadata": {},
     "output_type": "display_data"
    },
    {
     "data": {
      "text/plain": [
       "import org.apache.spark\r\n"
      ]
     },
     "execution_count": 1,
     "metadata": {},
     "output_type": "execute_result"
    }
   ],
   "source": [
    "import org.apache.spark"
   ]
  },
  {
   "cell_type": "code",
   "execution_count": 4,
   "id": "cf601b7ce6fc5c79",
   "metadata": {
    "ExecuteTime": {
     "end_time": "2025-01-15T19:21:05.761679Z",
     "start_time": "2025-01-15T19:21:05.275974Z"
    }
   },
   "outputs": [
    {
     "data": {
      "text/plain": [
       "sc: org.apache.spark.SparkContext = org.apache.spark.SparkContext@6382c5d2\r\n"
      ]
     },
     "execution_count": 4,
     "metadata": {},
     "output_type": "execute_result"
    }
   ],
   "source": [
    "// DO NOT EXECUTE - this is needed just to avoid showing errors in the following cells\n",
    "val sc = spark.SparkContext.getOrCreate()"
   ]
  },
  {
   "cell_type": "markdown",
   "id": "93c45630c708235f",
   "metadata": {},
   "source": [
    "### Parser del file .csv\n",
    "\n",
    "La cella sottostante implementa un *parser* per il file .csv descritto nel notebook [data-exploration.ipynb](./data-exploration.ipynb), consentendo l'estrazione delle informazioni necessarie per popolare l'oggetto RDD di Spark."
   ]
  },
  {
   "cell_type": "code",
   "execution_count": 2,
   "id": "51c8479048aa4b7b",
   "metadata": {
    "ExecuteTime": {
     "end_time": "2025-01-15T19:28:59.939315Z",
     "start_time": "2025-01-15T19:28:57.492647Z"
    }
   },
   "outputs": [
    {
     "data": {
      "text/plain": [
       "import java.text.SimpleDateFormat\r\n",
       "import java.util.Calendar\r\n",
       "defined object FlightParser\r\n"
      ]
     },
     "execution_count": 2,
     "metadata": {},
     "output_type": "execute_result"
    }
   ],
   "source": [
    "import java.text.SimpleDateFormat\n",
    "import java.util.Calendar\n",
    "\n",
    "object FlightParser {\n",
    "  \n",
    "  val commaRegex = \",(?=(?:[^\\\"]*\\\"[^\\\"]*\\\")*[^\\\"]*$)\"\n",
    "  val comma = \",\"\n",
    "\n",
    "  /**\n",
    "   * Convert from date (String) to month (Int).\n",
    "   * @param dateString the date\n",
    "   * @return the month\n",
    "   */\n",
    "  def monthFromDate(dateString: String): Int = {\n",
    "    val sdf = new SimpleDateFormat(\"yyyy-MM-dd\")\n",
    "    val date = sdf.parse(dateString.trim)\n",
    "    val cal = Calendar.getInstance()\n",
    "    cal.setTime(date)\n",
    "    cal.get(Calendar.MONTH) + 1\n",
    "  }\n",
    "\n",
    "  case class Flight(\n",
    "     legId: String,\n",
    "     searchDate: Int,\n",
    "     flightDate: Int,\n",
    "     startingAirport: String,\n",
    "     destinationAirport: String,\n",
    "     fareBasisCode: String,\n",
    "     travelDuration: String,\n",
    "     elapsedDays: Int,\n",
    "     isBasicEconomy: Boolean,\n",
    "     isRefundable: Boolean,\n",
    "     isNonStop: Boolean,\n",
    "     baseFare: Double,\n",
    "     totalFare: Double,\n",
    "     seatsRemaining: Int,\n",
    "     totalTravelDistance: Double,\n",
    "     segmentsDepartureTimeEpochSeconds: String,\n",
    "     segmentsDepartureTimeRaw: String,\n",
    "     segmentsArrivalTimeEpochSeconds: String,\n",
    "     segmentsArrivalTimeRaw: String,\n",
    "     segmentsArrivalAirportCode: String,\n",
    "     segmentsDepartureAirportCode: String,\n",
    "     segmentsAirlineName: String,\n",
    "     segmentsAirlineCode: String,\n",
    "     segmentsEquipmentDescription: String,\n",
    "     segmentsDurationInSeconds: String,\n",
    "     segmentsDistance: String,\n",
    "     segmentsCabinCode: String\n",
    "  )\n",
    "\n",
    "  /**\n",
    "   * Function to parse flights records.\n",
    "   * @param line that has to be parsed\n",
    "   * @return Flight object, None in case of input errors\n",
    "   */\n",
    "  def parseFlightLine(line: String): Option[Flight] = {\n",
    "    try {\n",
    "      val columns = line.split(comma)\n",
    "      Some(\n",
    "        Flight(\n",
    "          legId = columns(0).trim,\n",
    "          searchDate = monthFromDate(columns(1)),\n",
    "          flightDate = monthFromDate(columns(2)),\n",
    "          startingAirport = columns(3).trim,\n",
    "          destinationAirport = columns(4).trim,\n",
    "          fareBasisCode = columns(5).trim,\n",
    "          travelDuration = columns(6).trim,\n",
    "          elapsedDays = columns(7).trim.toInt,\n",
    "          isBasicEconomy = columns(8).trim.toBoolean,\n",
    "          isRefundable = columns(9).trim.toBoolean,\n",
    "          isNonStop = columns(10).trim.toBoolean,\n",
    "          baseFare = columns(11).trim.toDouble,\n",
    "          totalFare = columns(12).trim.toDouble,\n",
    "          seatsRemaining = columns(13).trim.toInt,\n",
    "          totalTravelDistance = columns(14).trim.toDouble,\n",
    "          segmentsDepartureTimeEpochSeconds = columns(15).trim,\n",
    "          segmentsDepartureTimeRaw = columns(16).trim,\n",
    "          segmentsArrivalTimeEpochSeconds = columns(17).trim,\n",
    "          segmentsArrivalTimeRaw = columns(18).trim,\n",
    "          segmentsArrivalAirportCode = columns(19).trim,\n",
    "          segmentsDepartureAirportCode = columns(20).trim,\n",
    "          segmentsAirlineName = columns(21).trim,\n",
    "          segmentsAirlineCode = columns(22).trim,\n",
    "          segmentsEquipmentDescription = columns(23).trim,\n",
    "          segmentsDurationInSeconds = columns(24).trim,\n",
    "          segmentsDistance = columns(25).trim,\n",
    "          segmentsCabinCode = columns(26).trim\n",
    "        )\n",
    "      )\n",
    "    } catch {\n",
    "      case e: Exception =>\n",
    "        // println(s\"Errore durante il parsing della riga '$line': ${e.getMessage}\")\n",
    "        None\n",
    "    }\n",
    "  }\n",
    "}"
   ]
  },
  {
   "cell_type": "code",
   "execution_count": 3,
   "id": "8681b935c9353693",
   "metadata": {
    "ExecuteTime": {
     "end_time": "2025-01-15T19:29:05.844994Z",
     "start_time": "2025-01-15T19:29:04.217572Z"
    }
   },
   "outputs": [
    {
     "data": {
      "text/plain": [
       "rawData: org.apache.spark.rdd.RDD[String] = ../../../../datasets/big/itineraries-sample02.csv MapPartitionsRDD[1] at textFile at <console>:27\r\n"
      ]
     },
     "execution_count": 3,
     "metadata": {},
     "output_type": "execute_result"
    }
   ],
   "source": [
    "val rawData = sc.textFile(\"../../../../datasets/big/itineraries-sample02.csv\")"
   ]
  },
  {
   "cell_type": "code",
   "execution_count": 4,
   "id": "ba8c35cd3020a7a4",
   "metadata": {
    "ExecuteTime": {
     "end_time": "2025-01-15T19:29:08.975193Z",
     "start_time": "2025-01-15T19:29:07.400776Z"
    }
   },
   "outputs": [
    {
     "data": {
      "text/plain": [
       "rddFlights: org.apache.spark.rdd.RDD[FlightParser.Flight] = MapPartitionsRDD[2] at flatMap at <console>:28\r\n"
      ]
     },
     "execution_count": 4,
     "metadata": {},
     "output_type": "execute_result"
    }
   ],
   "source": [
    "val rddFlights = rawData.flatMap(FlightParser.parseFlightLine)"
   ]
  },
  {
   "cell_type": "code",
   "execution_count": 5,
   "id": "411a20cf90856722",
   "metadata": {
    "ExecuteTime": {
     "start_time": "2025-01-15T19:29:09.851551Z"
    }
   },
   "outputs": [
    {
     "data": {
      "text/plain": [
       "res0: Long = 1520662\r\n"
      ]
     },
     "execution_count": 5,
     "metadata": {},
     "output_type": "execute_result"
    }
   ],
   "source": [
    "rddFlights.count()"
   ]
  },
  {
   "cell_type": "code",
   "execution_count": 6,
   "id": "fb3928b8618a571d",
   "metadata": {
    "ExecuteTime": {
     "end_time": "2025-01-15T19:23:39.028018Z",
     "start_time": "2025-01-15T19:23:38.252853Z"
    }
   },
   "outputs": [
    {
     "data": {
      "text/plain": [
       "flightsDistances: org.apache.spark.rdd.RDD[((String, String), (Double, Double))] = MapPartitionsRDD[5] at mapValues at <console>:33\r\n"
      ]
     },
     "execution_count": 6,
     "metadata": {},
     "output_type": "execute_result"
    }
   ],
   "source": [
    "val flightsDistances = rddFlights\n",
    "  .map(x => ((x.startingAirport, x.destinationAirport), x.totalTravelDistance))\n",
    "  .aggregateByKey((0.0, 0.0))(\n",
    "    (acc, rating) => (acc._1 + rating, acc._2 + 1), // Somma prezzo totale e incrementa conteggio\n",
    "    (acc1, acc2) => (acc1._1 + acc2._1, acc1._2 + acc2._2) // Combina risultati parziali\n",
    "  )\n",
    "  .mapValues { case (sum, count) => (sum / count, count) } // Calcolo media e numero di occorrenze"
   ]
  },
  {
   "cell_type": "code",
   "execution_count": 7,
   "id": "73c86e45f2fc95d2",
   "metadata": {},
   "outputs": [
    {
     "data": {
      "text/plain": [
       "res1: Array[((String, String), (Double, Double))] = Array(((BOS,LGA),(406.6977958842578,9573.0)), ((IAD,ORD),(841.525204359673,4404.0)), ((EWR,PHL),(1039.5994575045208,5530.0)), ((DTW,LGA),(694.1526669795088,6393.0)), ((OAK,DFW),(2123.889001864091,5901.0)), ((ATL,DEN),(1513.575124745888,5411.0)), ((IAD,CLT),(587.9657102869139,2858.0)), ((DEN,LGA),(1804.57909562639,6745.0)), ((DTW,EWR),(736.2682451253482,3590.0)), ((LGA,DFW),(1455.155069582505,9054.0)), ((OAK,JFK),(3126.575707702436,3038.0)), ((DEN,DTW),(1578.6580700623254,4653.0)), ((JFK,IAD),(703.4175354183374,3741.0)), ((ORD,MIA),(1521.1334047682828,7466.0)), ((IAD,DFW),(1363.3681891954557,4313.0)), ((DEN,PHL),(1852.40172900494,5668.0)), ((OAK,DEN),(1419.471807628524,4824.0)), ((BOS,JFK),(261.94046744083494,6803.0)), ((SFO,JFK),(2652....\r\n"
      ]
     },
     "execution_count": 7,
     "metadata": {},
     "output_type": "execute_result"
    }
   ],
   "source": [
    "flightsDistances.collect()"
   ]
  },
  {
   "cell_type": "code",
   "execution_count": 8,
   "id": "51ab6cf21a842b57",
   "metadata": {
    "ExecuteTime": {
     "end_time": "2025-01-15T19:23:47.356490Z",
     "start_time": "2025-01-15T19:23:40.113776Z"
    }
   },
   "outputs": [
    {
     "data": {
      "text/plain": [
       "minDistance: Double = 993.9075896762905\r\n"
      ]
     },
     "execution_count": 8,
     "metadata": {},
     "output_type": "execute_result"
    }
   ],
   "source": [
    "val minDistance = flightsDistances.min()._2._1"
   ]
  },
  {
   "cell_type": "code",
   "execution_count": 9,
   "id": "59a99f04f05d1d09",
   "metadata": {
    "ExecuteTime": {
     "end_time": "2025-01-15T19:23:50.041232Z",
     "start_time": "2025-01-15T19:23:48.975569Z"
    }
   },
   "outputs": [
    {
     "data": {
      "text/plain": [
       "maxDistance: Double = 2738.66144486692\r\n"
      ]
     },
     "execution_count": 9,
     "metadata": {},
     "output_type": "execute_result"
    }
   ],
   "source": [
    "val maxDistance = flightsDistances.max()._2._1"
   ]
  },
  {
   "cell_type": "code",
   "execution_count": 10,
   "id": "d113be73d8f55809",
   "metadata": {
    "ExecuteTime": {
     "end_time": "2025-01-15T19:23:52.836562Z",
     "start_time": "2025-01-15T19:23:51.983484Z"
    }
   },
   "outputs": [
    {
     "data": {
      "text/plain": [
       "numClassi: Int = 3\r\n",
       "range: Double = 581.5846183968765\r\n"
      ]
     },
     "execution_count": 10,
     "metadata": {},
     "output_type": "execute_result"
    }
   ],
   "source": [
    "val numClassi = 3\n",
    "\n",
    "val range = (maxDistance - minDistance) / numClassi"
   ]
  },
  {
   "cell_type": "code",
   "execution_count": 11,
   "id": "589f908d9810a6e",
   "metadata": {
    "ExecuteTime": {
     "end_time": "2025-01-15T19:23:57.729872Z",
     "start_time": "2025-01-15T19:23:56.715624Z"
    }
   },
   "outputs": [
    {
     "data": {
      "text/plain": [
       "classifiedDistances: org.apache.spark.rdd.RDD[((String, String), String)] = MapPartitionsRDD[6] at map at <console>:30\r\n"
      ]
     },
     "execution_count": 11,
     "metadata": {},
     "output_type": "execute_result"
    }
   ],
   "source": [
    "val classifiedDistances = flightsDistances.map {\n",
    "  case ((startingAirport, destinationAirport), (avgDistance, _)) =>\n",
    "    val classification = if (avgDistance < minDistance + range) \"Breve\"\n",
    "    else if (avgDistance <= minDistance + (numClassi - 1) * range ) \"Media\"\n",
    "    else \"Lunga\"\n",
    "    ((startingAirport, destinationAirport), classification)\n",
    "}"
   ]
  },
  {
   "cell_type": "code",
   "execution_count": null,
   "id": "64a5f7cf8205540e",
   "metadata": {},
   "outputs": [],
   "source": "//val rddClassifiedDistances = sc.parallelize(classifiedDistances)"
  },
  {
   "cell_type": "code",
   "execution_count": 12,
   "id": "bc88d7785805c488",
   "metadata": {
    "ExecuteTime": {
     "end_time": "2025-01-15T19:24:36.217850Z",
     "start_time": "2025-01-15T19:24:35.870079Z"
    }
   },
   "outputs": [
    {
     "data": {
      "text/plain": [
       "result: org.apache.spark.rdd.RDD[(Int, String, Double)] = MapPartitionsRDD[14] at map at <console>:38\r\n"
      ]
     },
     "execution_count": 12,
     "metadata": {},
     "output_type": "execute_result"
    }
   ],
   "source": [
    "val result = rddFlights\n",
    "  .map(x => ((x.startingAirport, x.destinationAirport), (x.flightDate, x.totalFare)))\n",
    "  .join(classifiedDistances)\n",
    "  .map {\n",
    "    case ((startingAirport, destinationAirport), ((month, totalFare), classification)) => ((month, classification), (totalFare, 1))\n",
    "  }\n",
    "  .reduceByKey { case ((sumFare1, count1), (sumFare2, count2)) =>\n",
    "    (sumFare1 + sumFare2, count1 + count2)\n",
    "  }\n",
    "  .mapValues { case (sum, count) => (sum / count, count) } // Calcola il prezzo medio e il numero totale di voli\n",
    "  .map {\n",
    "    case ((month, classification), (avgFare, count)) => (month, classification, avgFare)\n",
    "  }\n",
    "\n",
    "/*result2.collect().foreach {\n",
    "  case (classification, (avgTotalFare, numFlights)) =>\n",
    "    println(s\"Fascia: $classification, Prezzo Medio: $avgTotalFare, Numero Voli: $numFlights\")\n",
    "}*/\n"
   ]
  },
  {
   "cell_type": "code",
   "execution_count": 13,
   "id": "b44ce1760987d212",
   "metadata": {
    "ExecuteTime": {
     "start_time": "2025-01-15T19:24:41.673127Z"
    }
   },
   "outputs": [
    {
     "data": {
      "text/plain": [
       "res2: Array[(Int, String, Double)] = Array((5,Breve,283.8788881446023), (10,Media,325.7054848013336), (5,Media,413.6171160589015), (8,Lunga,461.10027818585945), (6,Breve,304.4254653392809), (11,Media,272.2007247531067), (11,Breve,222.67424202278337), (7,Lunga,553.1568957980675), (5,Lunga,531.5929277671767), (9,Media,326.2977310691745), (9,Breve,255.8687988591393), (6,Media,458.49081160607454), (11,Lunga,383.3642073607308), (7,Breve,299.0520991699244), (10,Lunga,410.4446781736263), (7,Media,432.4863157403677), (8,Media,359.8989032783995), (4,Breve,305.31267008117635), (6,Lunga,597.482866518744), (8,Breve,268.6789576042566), (10,Breve,259.3999845308579), (4,Media,356.7572332890661), (4,Lunga,480.69310774341034), (9,Lunga,404.9251304499109))\r\n"
      ]
     },
     "execution_count": 13,
     "metadata": {},
     "output_type": "execute_result"
    }
   ],
   "source": [
    "result.collect()"
   ]
  },
  {
   "cell_type": "code",
   "execution_count": 14,
   "id": "37a687d9ab92eb8f",
   "metadata": {},
   "outputs": [
    {
     "data": {
      "text/plain": [
       "import org.apache.spark.sql.SaveMode\r\n",
       "aggregatedFlights: String = ../../../../output/aggregatedFlights\r\n"
      ]
     },
     "execution_count": 14,
     "metadata": {},
     "output_type": "execute_result"
    }
   ],
   "source": [
    "import org.apache.spark.sql.SaveMode\n",
    "\n",
    "val aggregatedFlights = \"../../../../output/aggregatedFlights\""
   ]
  },
  {
   "cell_type": "code",
   "execution_count": 15,
   "id": "1baf1c58b0a76798",
   "metadata": {},
   "outputs": [],
   "source": [
    "result\n",
    "  .coalesce(1)\n",
    "  .toDF().write.format(\"csv\").mode(SaveMode.Overwrite).save(aggregatedFlights)"
   ]
  },
  {
   "cell_type": "code",
   "execution_count": null,
   "id": "b106865c63dd398a",
   "metadata": {},
   "outputs": [],
   "source": []
  }
 ],
 "metadata": {
  "kernelspec": {
   "display_name": "spylon-kernel",
   "language": "scala",
   "name": "spylon-kernel"
  },
  "language_info": {
   "codemirror_mode": "text/x-scala",
   "file_extension": ".scala",
   "help_links": [
    {
     "text": "MetaKernel Magics",
     "url": "https://metakernel.readthedocs.io/en/latest/source/README.html"
    }
   ],
   "mimetype": "text/x-scala",
   "name": "scala",
   "pygments_lexer": "scala",
   "version": "0.4.1"
  }
 },
 "nbformat": 4,
 "nbformat_minor": 5
}
