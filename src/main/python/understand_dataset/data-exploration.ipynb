{
 "cells": [
  {
   "cell_type": "markdown",
   "id": "639f4dd7e946bc24",
   "metadata": {},
   "source": [
    "# Big Data - Progetto"
   ]
  },
  {
   "cell_type": "markdown",
   "id": "7839dc08a7faa14c",
   "metadata": {},
   "source": [
    "## Comprensione e analisi esplorativa dei dati\n",
    "\n",
    "Il dataset di riferimento si trova al seguente link su Kaggle: https://www.kaggle.com/datasets/dilwong/flightprices/.\n",
    "\n",
    "Si tratta di un file .csv da 31.09 GB, da cui sono stati estratti tre *sample* di diverse dimensioni, per la comprensione e l'analisi esplorativa si utilizzerà il file di dimensione più piccola. Il file è composto da 27 colonne e ciascuna riga rappresenta un biglietto acquistabile trovato su Expedia. I dati sono stati raccolti nel periodo dal 16/04/2022 fino al 05/10/2022."
   ]
  },
  {
   "cell_type": "markdown",
   "id": "3045b46ffddb6094",
   "metadata": {},
   "source": [
    "### Caricamento librerie\n",
    "\n",
    "Per prima cosa, si devono caricare le librerie necessarie per effettuare operazioni sui dati:\n",
    "- **numpy** per creare e operare su array a N dimensioni;\n",
    "- **pandas** per caricare e manipolare dati tabulari;\n",
    "- **matplotlib** e **seaborn** per creare grafici."
   ]
  },
  {
   "cell_type": "code",
   "execution_count": 25,
   "id": "639334c9452bc3e2",
   "metadata": {
    "ExecuteTime": {
     "end_time": "2025-01-14T11:12:33.093064Z",
     "start_time": "2025-01-14T11:11:30.824913Z"
    }
   },
   "outputs": [
    {
     "name": "stdout",
     "output_type": "stream",
     "text": [
      "Requirement already satisfied: pandas in c:\\users\\hp\\desktop\\unibo\\laureamagistrale\\2 anno\\i semestre\\big data\\2024-2025\\laboratory\\projectbigdata\\venv\\lib\\site-packages (2.2.3)\n",
      "Requirement already satisfied: numpy>=1.23.2 in c:\\users\\hp\\desktop\\unibo\\laureamagistrale\\2 anno\\i semestre\\big data\\2024-2025\\laboratory\\projectbigdata\\venv\\lib\\site-packages (from pandas) (2.1.3)\n",
      "Requirement already satisfied: python-dateutil>=2.8.2 in c:\\users\\hp\\desktop\\unibo\\laureamagistrale\\2 anno\\i semestre\\big data\\2024-2025\\laboratory\\projectbigdata\\venv\\lib\\site-packages (from pandas) (2.9.0.post0)\n",
      "Requirement already satisfied: pytz>=2020.1 in c:\\users\\hp\\desktop\\unibo\\laureamagistrale\\2 anno\\i semestre\\big data\\2024-2025\\laboratory\\projectbigdata\\venv\\lib\\site-packages (from pandas) (2024.2)\n",
      "Requirement already satisfied: tzdata>=2022.7 in c:\\users\\hp\\desktop\\unibo\\laureamagistrale\\2 anno\\i semestre\\big data\\2024-2025\\laboratory\\projectbigdata\\venv\\lib\\site-packages (from pandas) (2024.2)\n",
      "Requirement already satisfied: six>=1.5 in c:\\users\\hp\\desktop\\unibo\\laureamagistrale\\2 anno\\i semestre\\big data\\2024-2025\\laboratory\\projectbigdata\\venv\\lib\\site-packages (from python-dateutil>=2.8.2->pandas) (1.16.0)\n",
      "Requirement already satisfied: matplotlib in c:\\users\\hp\\desktop\\unibo\\laureamagistrale\\2 anno\\i semestre\\big data\\2024-2025\\laboratory\\projectbigdata\\venv\\lib\\site-packages (3.10.0)\n",
      "Requirement already satisfied: contourpy>=1.0.1 in c:\\users\\hp\\desktop\\unibo\\laureamagistrale\\2 anno\\i semestre\\big data\\2024-2025\\laboratory\\projectbigdata\\venv\\lib\\site-packages (from matplotlib) (1.3.1)\n",
      "Requirement already satisfied: cycler>=0.10 in c:\\users\\hp\\desktop\\unibo\\laureamagistrale\\2 anno\\i semestre\\big data\\2024-2025\\laboratory\\projectbigdata\\venv\\lib\\site-packages (from matplotlib) (0.12.1)\n",
      "Requirement already satisfied: fonttools>=4.22.0 in c:\\users\\hp\\desktop\\unibo\\laureamagistrale\\2 anno\\i semestre\\big data\\2024-2025\\laboratory\\projectbigdata\\venv\\lib\\site-packages (from matplotlib) (4.55.3)\n",
      "Requirement already satisfied: kiwisolver>=1.3.1 in c:\\users\\hp\\desktop\\unibo\\laureamagistrale\\2 anno\\i semestre\\big data\\2024-2025\\laboratory\\projectbigdata\\venv\\lib\\site-packages (from matplotlib) (1.4.8)\n",
      "Requirement already satisfied: numpy>=1.23 in c:\\users\\hp\\desktop\\unibo\\laureamagistrale\\2 anno\\i semestre\\big data\\2024-2025\\laboratory\\projectbigdata\\venv\\lib\\site-packages (from matplotlib) (2.1.3)\n",
      "Requirement already satisfied: packaging>=20.0 in c:\\users\\hp\\desktop\\unibo\\laureamagistrale\\2 anno\\i semestre\\big data\\2024-2025\\laboratory\\projectbigdata\\venv\\lib\\site-packages (from matplotlib) (24.2)\n",
      "Requirement already satisfied: pillow>=8 in c:\\users\\hp\\desktop\\unibo\\laureamagistrale\\2 anno\\i semestre\\big data\\2024-2025\\laboratory\\projectbigdata\\venv\\lib\\site-packages (from matplotlib) (11.1.0)\n",
      "Requirement already satisfied: pyparsing>=2.3.1 in c:\\users\\hp\\desktop\\unibo\\laureamagistrale\\2 anno\\i semestre\\big data\\2024-2025\\laboratory\\projectbigdata\\venv\\lib\\site-packages (from matplotlib) (3.2.1)\n",
      "Requirement already satisfied: python-dateutil>=2.7 in c:\\users\\hp\\desktop\\unibo\\laureamagistrale\\2 anno\\i semestre\\big data\\2024-2025\\laboratory\\projectbigdata\\venv\\lib\\site-packages (from matplotlib) (2.9.0.post0)\n",
      "Requirement already satisfied: six>=1.5 in c:\\users\\hp\\desktop\\unibo\\laureamagistrale\\2 anno\\i semestre\\big data\\2024-2025\\laboratory\\projectbigdata\\venv\\lib\\site-packages (from python-dateutil>=2.7->matplotlib) (1.16.0)\n",
      "Requirement already satisfied: numpy in c:\\users\\hp\\desktop\\unibo\\laureamagistrale\\2 anno\\i semestre\\big data\\2024-2025\\laboratory\\projectbigdata\\venv\\lib\\site-packages (2.1.3)\n",
      "Collecting seaborn\n",
      "  Using cached seaborn-0.13.2-py3-none-any.whl.metadata (5.4 kB)\n",
      "Requirement already satisfied: numpy!=1.24.0,>=1.20 in c:\\users\\hp\\desktop\\unibo\\laureamagistrale\\2 anno\\i semestre\\big data\\2024-2025\\laboratory\\projectbigdata\\venv\\lib\\site-packages (from seaborn) (2.1.3)\n",
      "Requirement already satisfied: pandas>=1.2 in c:\\users\\hp\\desktop\\unibo\\laureamagistrale\\2 anno\\i semestre\\big data\\2024-2025\\laboratory\\projectbigdata\\venv\\lib\\site-packages (from seaborn) (2.2.3)\n",
      "Requirement already satisfied: matplotlib!=3.6.1,>=3.4 in c:\\users\\hp\\desktop\\unibo\\laureamagistrale\\2 anno\\i semestre\\big data\\2024-2025\\laboratory\\projectbigdata\\venv\\lib\\site-packages (from seaborn) (3.10.0)\n",
      "Requirement already satisfied: contourpy>=1.0.1 in c:\\users\\hp\\desktop\\unibo\\laureamagistrale\\2 anno\\i semestre\\big data\\2024-2025\\laboratory\\projectbigdata\\venv\\lib\\site-packages (from matplotlib!=3.6.1,>=3.4->seaborn) (1.3.1)\n",
      "Requirement already satisfied: cycler>=0.10 in c:\\users\\hp\\desktop\\unibo\\laureamagistrale\\2 anno\\i semestre\\big data\\2024-2025\\laboratory\\projectbigdata\\venv\\lib\\site-packages (from matplotlib!=3.6.1,>=3.4->seaborn) (0.12.1)\n",
      "Requirement already satisfied: fonttools>=4.22.0 in c:\\users\\hp\\desktop\\unibo\\laureamagistrale\\2 anno\\i semestre\\big data\\2024-2025\\laboratory\\projectbigdata\\venv\\lib\\site-packages (from matplotlib!=3.6.1,>=3.4->seaborn) (4.55.3)\n",
      "Requirement already satisfied: kiwisolver>=1.3.1 in c:\\users\\hp\\desktop\\unibo\\laureamagistrale\\2 anno\\i semestre\\big data\\2024-2025\\laboratory\\projectbigdata\\venv\\lib\\site-packages (from matplotlib!=3.6.1,>=3.4->seaborn) (1.4.8)\n",
      "Requirement already satisfied: packaging>=20.0 in c:\\users\\hp\\desktop\\unibo\\laureamagistrale\\2 anno\\i semestre\\big data\\2024-2025\\laboratory\\projectbigdata\\venv\\lib\\site-packages (from matplotlib!=3.6.1,>=3.4->seaborn) (24.2)\n",
      "Requirement already satisfied: pillow>=8 in c:\\users\\hp\\desktop\\unibo\\laureamagistrale\\2 anno\\i semestre\\big data\\2024-2025\\laboratory\\projectbigdata\\venv\\lib\\site-packages (from matplotlib!=3.6.1,>=3.4->seaborn) (11.1.0)\n",
      "Requirement already satisfied: pyparsing>=2.3.1 in c:\\users\\hp\\desktop\\unibo\\laureamagistrale\\2 anno\\i semestre\\big data\\2024-2025\\laboratory\\projectbigdata\\venv\\lib\\site-packages (from matplotlib!=3.6.1,>=3.4->seaborn) (3.2.1)\n",
      "Requirement already satisfied: python-dateutil>=2.7 in c:\\users\\hp\\desktop\\unibo\\laureamagistrale\\2 anno\\i semestre\\big data\\2024-2025\\laboratory\\projectbigdata\\venv\\lib\\site-packages (from matplotlib!=3.6.1,>=3.4->seaborn) (2.9.0.post0)\n",
      "Requirement already satisfied: pytz>=2020.1 in c:\\users\\hp\\desktop\\unibo\\laureamagistrale\\2 anno\\i semestre\\big data\\2024-2025\\laboratory\\projectbigdata\\venv\\lib\\site-packages (from pandas>=1.2->seaborn) (2024.2)\n",
      "Requirement already satisfied: tzdata>=2022.7 in c:\\users\\hp\\desktop\\unibo\\laureamagistrale\\2 anno\\i semestre\\big data\\2024-2025\\laboratory\\projectbigdata\\venv\\lib\\site-packages (from pandas>=1.2->seaborn) (2024.2)\n",
      "Requirement already satisfied: six>=1.5 in c:\\users\\hp\\desktop\\unibo\\laureamagistrale\\2 anno\\i semestre\\big data\\2024-2025\\laboratory\\projectbigdata\\venv\\lib\\site-packages (from python-dateutil>=2.7->matplotlib!=3.6.1,>=3.4->seaborn) (1.16.0)\n",
      "Using cached seaborn-0.13.2-py3-none-any.whl (294 kB)\n",
      "Installing collected packages: seaborn\n",
      "Successfully installed seaborn-0.13.2\n"
     ]
    }
   ],
   "source": [
    "!pip install pandas\n",
    "!pip install matplotlib\n",
    "!pip install numpy\n",
    "!pip install seaborn"
   ]
  },
  {
   "cell_type": "code",
   "execution_count": 27,
   "id": "8cf7af712940931a",
   "metadata": {
    "ExecuteTime": {
     "end_time": "2025-01-14T11:18:22.618887Z",
     "start_time": "2025-01-14T11:18:22.608670Z"
    }
   },
   "outputs": [],
   "source": [
    "import pandas as pd\n",
    "import matplotlib.pyplot as plt\n",
    "import numpy as np\n",
    "import seaborn as sns"
   ]
  },
  {
   "cell_type": "markdown",
   "id": "909cfe82cf61a957",
   "metadata": {},
   "source": [
    "### Caricamento dei dati\n",
    "\n",
    "Si effettua il caricamento del file *itineraries-sample02.csv* scaricabile dalla cartella su [OneDrive](https://liveunibo-my.sharepoint.com/:f:/g/personal/giulia_nardicchia_studio_unibo_it/Ei2686kRO3JFrY-4LnImGpwBtge9FRErDnIgvT2h2QB-Pg?e=VrufWl)."
   ]
  },
  {
   "cell_type": "code",
   "id": "initial_id",
   "metadata": {
    "collapsed": true,
    "jupyter": {
     "outputs_hidden": true
    },
    "ExecuteTime": {
     "end_time": "2025-01-14T12:33:18.523324Z",
     "start_time": "2025-01-14T12:33:01.630252Z"
    }
   },
   "source": [
    "data = pd.read_csv('../../../../datasets/big/itineraries-sample02.csv')"
   ],
   "outputs": [],
   "execution_count": 49
  },
  {
   "cell_type": "markdown",
   "id": "cfc62da5a4c69974",
   "metadata": {},
   "source": [
    "### Esplorazione preliminare dei dati\n",
    "\n",
    "Il dataset più piccolo contiene 1642775 istanze e 27 features."
   ]
  },
  {
   "cell_type": "code",
   "execution_count": 5,
   "id": "8c89c41ab8d1340f",
   "metadata": {
    "ExecuteTime": {
     "end_time": "2025-01-14T09:54:03.069880Z",
     "start_time": "2025-01-14T09:54:03.059055Z"
    }
   },
   "outputs": [
    {
     "data": {
      "text/plain": [
       "(1642775, 27)"
      ]
     },
     "execution_count": 5,
     "metadata": {},
     "output_type": "execute_result"
    }
   ],
   "source": [
    "data.shape"
   ]
  },
  {
   "cell_type": "markdown",
   "id": "ab326c1b4dad98b7",
   "metadata": {},
   "source": [
    "Visualizzando le prime 5 righe del dataset si può avere un'idea di come siano fatti i dati."
   ]
  },
  {
   "cell_type": "code",
   "execution_count": 6,
   "id": "f91b430a872017e5",
   "metadata": {
    "ExecuteTime": {
     "end_time": "2025-01-14T09:54:10.210246Z",
     "start_time": "2025-01-14T09:54:10.185781Z"
    }
   },
   "outputs": [
    {
     "data": {
      "text/html": [
       "<div>\n",
       "<style scoped>\n",
       "    .dataframe tbody tr th:only-of-type {\n",
       "        vertical-align: middle;\n",
       "    }\n",
       "\n",
       "    .dataframe tbody tr th {\n",
       "        vertical-align: top;\n",
       "    }\n",
       "\n",
       "    .dataframe thead th {\n",
       "        text-align: right;\n",
       "    }\n",
       "</style>\n",
       "<table border=\"1\" class=\"dataframe\">\n",
       "  <thead>\n",
       "    <tr style=\"text-align: right;\">\n",
       "      <th></th>\n",
       "      <th>legId</th>\n",
       "      <th>searchDate</th>\n",
       "      <th>flightDate</th>\n",
       "      <th>startingAirport</th>\n",
       "      <th>destinationAirport</th>\n",
       "      <th>fareBasisCode</th>\n",
       "      <th>travelDuration</th>\n",
       "      <th>elapsedDays</th>\n",
       "      <th>isBasicEconomy</th>\n",
       "      <th>isRefundable</th>\n",
       "      <th>...</th>\n",
       "      <th>segmentsArrivalTimeEpochSeconds</th>\n",
       "      <th>segmentsArrivalTimeRaw</th>\n",
       "      <th>segmentsArrivalAirportCode</th>\n",
       "      <th>segmentsDepartureAirportCode</th>\n",
       "      <th>segmentsAirlineName</th>\n",
       "      <th>segmentsAirlineCode</th>\n",
       "      <th>segmentsEquipmentDescription</th>\n",
       "      <th>segmentsDurationInSeconds</th>\n",
       "      <th>segmentsDistance</th>\n",
       "      <th>segmentsCabinCode</th>\n",
       "    </tr>\n",
       "  </thead>\n",
       "  <tbody>\n",
       "    <tr>\n",
       "      <th>0</th>\n",
       "      <td>65a8a691c4d77487a439d6f44c219a39</td>\n",
       "      <td>2022-04-17</td>\n",
       "      <td>2022-04-21</td>\n",
       "      <td>LGA</td>\n",
       "      <td>DFW</td>\n",
       "      <td>UA3NA0BQ</td>\n",
       "      <td>PT5H45M</td>\n",
       "      <td>0</td>\n",
       "      <td>True</td>\n",
       "      <td>False</td>\n",
       "      <td>...</td>\n",
       "      <td>1650551340||1650563100</td>\n",
       "      <td>2022-04-21T10:29:00.000-04:00||2022-04-21T12:4...</td>\n",
       "      <td>ATL||DFW</td>\n",
       "      <td>LGA||ATL</td>\n",
       "      <td>Delta||Delta</td>\n",
       "      <td>DL||DL</td>\n",
       "      <td>Airbus A321||Airbus A321</td>\n",
       "      <td>8940||8520</td>\n",
       "      <td>762||725</td>\n",
       "      <td>coach||coach</td>\n",
       "    </tr>\n",
       "    <tr>\n",
       "      <th>1</th>\n",
       "      <td>1ad3c9a84f803cc98028ba8c67f35941</td>\n",
       "      <td>2022-04-18</td>\n",
       "      <td>2022-04-24</td>\n",
       "      <td>ATL</td>\n",
       "      <td>LGA</td>\n",
       "      <td>H3AHZNN1</td>\n",
       "      <td>PT2H22M</td>\n",
       "      <td>0</td>\n",
       "      <td>False</td>\n",
       "      <td>False</td>\n",
       "      <td>...</td>\n",
       "      <td>1650853920</td>\n",
       "      <td>2022-04-24T22:32:00.000-04:00</td>\n",
       "      <td>LGA</td>\n",
       "      <td>ATL</td>\n",
       "      <td>American Airlines</td>\n",
       "      <td>AA</td>\n",
       "      <td>Embraer 170</td>\n",
       "      <td>8520</td>\n",
       "      <td>762</td>\n",
       "      <td>coach</td>\n",
       "    </tr>\n",
       "    <tr>\n",
       "      <th>2</th>\n",
       "      <td>510f3a1255b9843a8eae48032b191faf</td>\n",
       "      <td>2022-04-17</td>\n",
       "      <td>2022-04-22</td>\n",
       "      <td>OAK</td>\n",
       "      <td>LAX</td>\n",
       "      <td>YH0OASMR</td>\n",
       "      <td>PT7H11M</td>\n",
       "      <td>0</td>\n",
       "      <td>False</td>\n",
       "      <td>False</td>\n",
       "      <td>...</td>\n",
       "      <td>1650678600||1650697140</td>\n",
       "      <td>2022-04-22T18:50:00.000-07:00||2022-04-22T23:5...</td>\n",
       "      <td>SEA||ONT</td>\n",
       "      <td>OAK||SEA</td>\n",
       "      <td>Alaska Airlines||Alaska Airlines</td>\n",
       "      <td>AS||AS</td>\n",
       "      <td>Embraer 175||Airbus A320</td>\n",
       "      <td>7320||8940</td>\n",
       "      <td>672||956</td>\n",
       "      <td>coach||coach</td>\n",
       "    </tr>\n",
       "    <tr>\n",
       "      <th>3</th>\n",
       "      <td>ca0fb1ee992f752bbfdcd03a8b3e8ed0</td>\n",
       "      <td>2022-04-17</td>\n",
       "      <td>2022-05-18</td>\n",
       "      <td>LGA</td>\n",
       "      <td>SFO</td>\n",
       "      <td>MAUTA5MC</td>\n",
       "      <td>PT10H22M</td>\n",
       "      <td>0</td>\n",
       "      <td>False</td>\n",
       "      <td>False</td>\n",
       "      <td>...</td>\n",
       "      <td>1652914020||1652941920</td>\n",
       "      <td>2022-05-18T18:47:00.000-04:00||2022-05-18T23:3...</td>\n",
       "      <td>ATL||SFO</td>\n",
       "      <td>LGA||ATL</td>\n",
       "      <td>Delta||Delta</td>\n",
       "      <td>DL||DL</td>\n",
       "      <td>Airbus A321||Boeing 757-300</td>\n",
       "      <td>9420||18600</td>\n",
       "      <td>762||2135</td>\n",
       "      <td>coach||coach</td>\n",
       "    </tr>\n",
       "    <tr>\n",
       "      <th>4</th>\n",
       "      <td>5f7a29384cea410317ca308d2e065059</td>\n",
       "      <td>2022-04-17</td>\n",
       "      <td>2022-05-06</td>\n",
       "      <td>SFO</td>\n",
       "      <td>BOS</td>\n",
       "      <td>E0AJZNN1</td>\n",
       "      <td>PT8H29M</td>\n",
       "      <td>1</td>\n",
       "      <td>False</td>\n",
       "      <td>False</td>\n",
       "      <td>...</td>\n",
       "      <td>1651919400||1651929660</td>\n",
       "      <td>2022-05-07T06:30:00.000-04:00||2022-05-07T09:2...</td>\n",
       "      <td>JFK||BOS</td>\n",
       "      <td>SFO||JFK</td>\n",
       "      <td>JetBlue Airways||JetBlue Airways</td>\n",
       "      <td>B6||B6</td>\n",
       "      <td>Airbus A319-321||AIRBUS INDUSTRIE A321 SHARKLETS</td>\n",
       "      <td>20280||4560</td>\n",
       "      <td>2566||185</td>\n",
       "      <td>coach||coach</td>\n",
       "    </tr>\n",
       "  </tbody>\n",
       "</table>\n",
       "<p>5 rows × 27 columns</p>\n",
       "</div>"
      ],
      "text/plain": [
       "                              legId  searchDate  flightDate startingAirport  \\\n",
       "0  65a8a691c4d77487a439d6f44c219a39  2022-04-17  2022-04-21             LGA   \n",
       "1  1ad3c9a84f803cc98028ba8c67f35941  2022-04-18  2022-04-24             ATL   \n",
       "2  510f3a1255b9843a8eae48032b191faf  2022-04-17  2022-04-22             OAK   \n",
       "3  ca0fb1ee992f752bbfdcd03a8b3e8ed0  2022-04-17  2022-05-18             LGA   \n",
       "4  5f7a29384cea410317ca308d2e065059  2022-04-17  2022-05-06             SFO   \n",
       "\n",
       "  destinationAirport fareBasisCode travelDuration  elapsedDays  \\\n",
       "0                DFW      UA3NA0BQ        PT5H45M            0   \n",
       "1                LGA      H3AHZNN1        PT2H22M            0   \n",
       "2                LAX      YH0OASMR        PT7H11M            0   \n",
       "3                SFO      MAUTA5MC       PT10H22M            0   \n",
       "4                BOS      E0AJZNN1        PT8H29M            1   \n",
       "\n",
       "   isBasicEconomy  isRefundable  ...  segmentsArrivalTimeEpochSeconds  \\\n",
       "0            True         False  ...           1650551340||1650563100   \n",
       "1           False         False  ...                       1650853920   \n",
       "2           False         False  ...           1650678600||1650697140   \n",
       "3           False         False  ...           1652914020||1652941920   \n",
       "4           False         False  ...           1651919400||1651929660   \n",
       "\n",
       "                              segmentsArrivalTimeRaw  \\\n",
       "0  2022-04-21T10:29:00.000-04:00||2022-04-21T12:4...   \n",
       "1                      2022-04-24T22:32:00.000-04:00   \n",
       "2  2022-04-22T18:50:00.000-07:00||2022-04-22T23:5...   \n",
       "3  2022-05-18T18:47:00.000-04:00||2022-05-18T23:3...   \n",
       "4  2022-05-07T06:30:00.000-04:00||2022-05-07T09:2...   \n",
       "\n",
       "   segmentsArrivalAirportCode  segmentsDepartureAirportCode  \\\n",
       "0                    ATL||DFW                      LGA||ATL   \n",
       "1                         LGA                           ATL   \n",
       "2                    SEA||ONT                      OAK||SEA   \n",
       "3                    ATL||SFO                      LGA||ATL   \n",
       "4                    JFK||BOS                      SFO||JFK   \n",
       "\n",
       "                segmentsAirlineName segmentsAirlineCode  \\\n",
       "0                      Delta||Delta              DL||DL   \n",
       "1                 American Airlines                  AA   \n",
       "2  Alaska Airlines||Alaska Airlines              AS||AS   \n",
       "3                      Delta||Delta              DL||DL   \n",
       "4  JetBlue Airways||JetBlue Airways              B6||B6   \n",
       "\n",
       "                       segmentsEquipmentDescription segmentsDurationInSeconds  \\\n",
       "0                          Airbus A321||Airbus A321                8940||8520   \n",
       "1                                       Embraer 170                      8520   \n",
       "2                          Embraer 175||Airbus A320                7320||8940   \n",
       "3                       Airbus A321||Boeing 757-300               9420||18600   \n",
       "4  Airbus A319-321||AIRBUS INDUSTRIE A321 SHARKLETS               20280||4560   \n",
       "\n",
       "  segmentsDistance segmentsCabinCode  \n",
       "0         762||725      coach||coach  \n",
       "1              762             coach  \n",
       "2         672||956      coach||coach  \n",
       "3        762||2135      coach||coach  \n",
       "4        2566||185      coach||coach  \n",
       "\n",
       "[5 rows x 27 columns]"
      ]
     },
     "execution_count": 6,
     "metadata": {},
     "output_type": "execute_result"
    }
   ],
   "source": [
    "data.head()"
   ]
  },
  {
   "cell_type": "markdown",
   "id": "50f7e81a99b535c4",
   "metadata": {},
   "source": [
    "### Comprensione dei dati\n",
    "\n",
    "Significato delle features:\n",
    "\n",
    "- *legId*: identificatore per il volo;\n",
    "- *searchDate*: data di ricerca (AAAA-MM-GG) effettuata su Expedia;\n",
    "- *flightDate*: data del volo (AAAA-MM-GG);\n",
    "- *startingAirport*: codice aeroportuale IATA (a tre caratteri) per la località di partenza;\n",
    "- *destinationAirport*: codice aeroportuale IATA (a tre caratteri) per la località di arrivo;\n",
    "- *fareBasisCode*: codice della tariffa base;\n",
    "- *travelDuration*: durata del viaggio in ore e minuti;\n",
    "- *elapsedDays*: numero di giorni trascorsi (solitamente 0).\n",
    "- *isBasicEconomy*: valore booleano per indicare se il biglietto è di classe economy;\n",
    "- *isRefundable*: valore booleano per indicare se il biglietto è rimborsabile;\n",
    "- *isNonStop*: valore booleano per indicare se il volo è diretto;\n",
    "- *baseFare*: prezzo base del biglietto (in USD);\n",
    "- *totalFare*: prezzo totale del biglietto (in USD), comprese le tasse e altre spese;\n",
    "- *seatsRemaining*: numero di posti rimanenti;\n",
    "- *totalTravelDistance*: distanza totale del viaggio in miglia (questo dato a volte manca);\n",
    "- **(*)** *segmentsDepartureTimeEpochSeconds*: stringa contenente l'ora di partenza (formato Unix) per ciascuna tratta del viaggio;\n",
    "- **(*)** *segmentsDepartureTimeRaw*: stringa contenente l'ora di partenza (formato ISO 8601: YYYY-MM-DDThh:mm:ss.000±[hh]:00) per ciascuna tratta del viaggio;\n",
    "- **(*)** *segmentsArrivalTimeEpochSeconds*: stringa contenente l'ora di arrivo (formato Unix) per ogni tratta del viaggio;\n",
    "- **(*)** *segmentsArrivalTimeRaw*: stringa contenente l'ora di arrivo (formato ISO 8601: YYYY-MM-DDThh:mm:ss.000±[hh]:00) per ciascuna tratta del viaggio;\n",
    "- **(*)** *segmentsArrivalAirportCode*: stringa contenente il codice aeroportuale IATA della località di arrivo per ciascuna tratta del viaggio;\n",
    "- **(*)** *segmentsDepartureAirportCode*: stringa contenente il codice aeroportuale IATA della località di partenza per ogni tratta del viaggio;\n",
    "- **(*)** *segmentsAirlineName*: stringa contenente il nome della compagnia aerea che serve ogni tratta del viaggio;\n",
    "- **(*)** *segmentsAirlineCode*: stringa contenente il codice di due lettere della compagnia aerea che serve ogni tratta del viaggio;\n",
    "- **(*)** *segmentsEquipmentDescription*: stringa contenente il tipo di aereo utilizzato per ogni tratta del viaggio (ad esempio, “Airbus A321” o “Boeing 737-800”);\n",
    "- **(*)** *segmentsDurationInSeconds*: stringa contenente la durata del volo (in secondi) per ogni tratta del viaggio;\n",
    "- **(*)** *segmentsDistance*: stringa contenente la distanza percorsa (in miglia) per ogni tratta del viaggio;\n",
    "- **(*)** *segmentsCabinCode*: stringa contenente la cabina per ogni tratta del viaggio (ad esempio, “coach”).\n",
    "\n",
    "(*) Le voci per ciascuna tappa sono separate da “||”."
   ]
  },
  {
   "cell_type": "markdown",
   "id": "e2d9922c4d81f873",
   "metadata": {},
   "source": [
    "Tramite il comando `info()` si ottengono le informazioni generali sul dataset, in particolare i tipi delle colonne."
   ]
  },
  {
   "cell_type": "code",
   "id": "b01192edb757a56a",
   "metadata": {
    "ExecuteTime": {
     "end_time": "2025-01-14T12:33:27.067653Z",
     "start_time": "2025-01-14T12:33:18.526332Z"
    }
   },
   "source": [
    "data.info(memory_usage=\"deep\")"
   ],
   "outputs": [
    {
     "name": "stdout",
     "output_type": "stream",
     "text": [
      "<class 'pandas.core.frame.DataFrame'>\n",
      "RangeIndex: 1642775 entries, 0 to 1642774\n",
      "Data columns (total 27 columns):\n",
      " #   Column                             Non-Null Count    Dtype  \n",
      "---  ------                             --------------    -----  \n",
      " 0   legId                              1642775 non-null  object \n",
      " 1   searchDate                         1642775 non-null  object \n",
      " 2   flightDate                         1642775 non-null  object \n",
      " 3   startingAirport                    1642775 non-null  object \n",
      " 4   destinationAirport                 1642775 non-null  object \n",
      " 5   fareBasisCode                      1642775 non-null  object \n",
      " 6   travelDuration                     1642775 non-null  object \n",
      " 7   elapsedDays                        1642775 non-null  int64  \n",
      " 8   isBasicEconomy                     1642775 non-null  bool   \n",
      " 9   isRefundable                       1642775 non-null  bool   \n",
      " 10  isNonStop                          1642775 non-null  bool   \n",
      " 11  baseFare                           1642775 non-null  float64\n",
      " 12  totalFare                          1642775 non-null  float64\n",
      " 13  seatsRemaining                     1642775 non-null  int64  \n",
      " 14  totalTravelDistance                1520662 non-null  float64\n",
      " 15  segmentsDepartureTimeEpochSeconds  1642775 non-null  object \n",
      " 16  segmentsDepartureTimeRaw           1642775 non-null  object \n",
      " 17  segmentsArrivalTimeEpochSeconds    1642775 non-null  object \n",
      " 18  segmentsArrivalTimeRaw             1642775 non-null  object \n",
      " 19  segmentsArrivalAirportCode         1642775 non-null  object \n",
      " 20  segmentsDepartureAirportCode       1642775 non-null  object \n",
      " 21  segmentsAirlineName                1642775 non-null  object \n",
      " 22  segmentsAirlineCode                1642775 non-null  object \n",
      " 23  segmentsEquipmentDescription       1611543 non-null  object \n",
      " 24  segmentsDurationInSeconds          1642775 non-null  object \n",
      " 25  segmentsDistance                   1625513 non-null  object \n",
      " 26  segmentsCabinCode                  1642775 non-null  object \n",
      "dtypes: bool(3), float64(3), int64(2), object(19)\n",
      "memory usage: 2.2 GB\n"
     ]
    }
   ],
   "execution_count": 50
  },
  {
   "cell_type": "markdown",
   "id": "d12aa8b4069dc8e9",
   "metadata": {},
   "source": [
    "Impostando il tipo di dato `category` per alcune variabili di tipo `object` è possibile ottimizzare l'uso di memoria. Si vuole anche impostare il tipo `datetime` per le date.\n",
    "\n",
    "Le variabili di tipo numerico e i booleani verranno lasciati invariati."
   ]
  },
  {
   "cell_type": "code",
   "id": "9be74fb09e4a44cc",
   "metadata": {
    "ExecuteTime": {
     "end_time": "2025-01-14T12:35:25.706508Z",
     "start_time": "2025-01-14T12:35:10.682063Z"
    }
   },
   "source": [
    "timedelta_columns = ['travelDuration']\n",
    "datetime_columns = ['searchDate', 'flightDate']\n",
    "categorical_columns = data.select_dtypes(include=['object']).columns.difference(datetime_columns + timedelta_columns)\n",
    "\n",
    "for col in categorical_columns:\n",
    "    data[col] = data[col].astype('category')\n",
    "\n",
    "for col in datetime_columns:\n",
    "    data[col] = pd.to_datetime(data[col])\n",
    "\n",
    "for col in timedelta_columns:\n",
    "    data[col] = pd.to_timedelta(data[col])"
   ],
   "outputs": [],
   "execution_count": 52
  },
  {
   "cell_type": "code",
   "id": "2142c3f6c9dab9dc",
   "metadata": {
    "ExecuteTime": {
     "end_time": "2025-01-14T12:35:33.214722Z",
     "start_time": "2025-01-14T12:35:25.708691Z"
    }
   },
   "source": [
    "data.info(memory_usage=\"deep\")"
   ],
   "outputs": [
    {
     "name": "stdout",
     "output_type": "stream",
     "text": [
      "<class 'pandas.core.frame.DataFrame'>\n",
      "RangeIndex: 1642775 entries, 0 to 1642774\n",
      "Data columns (total 27 columns):\n",
      " #   Column                             Non-Null Count    Dtype          \n",
      "---  ------                             --------------    -----          \n",
      " 0   legId                              1642775 non-null  category       \n",
      " 1   searchDate                         1642775 non-null  datetime64[ns] \n",
      " 2   flightDate                         1642775 non-null  datetime64[ns] \n",
      " 3   startingAirport                    1642775 non-null  category       \n",
      " 4   destinationAirport                 1642775 non-null  category       \n",
      " 5   fareBasisCode                      1642775 non-null  category       \n",
      " 6   travelDuration                     1642775 non-null  timedelta64[ns]\n",
      " 7   elapsedDays                        1642775 non-null  int64          \n",
      " 8   isBasicEconomy                     1642775 non-null  bool           \n",
      " 9   isRefundable                       1642775 non-null  bool           \n",
      " 10  isNonStop                          1642775 non-null  bool           \n",
      " 11  baseFare                           1642775 non-null  float64        \n",
      " 12  totalFare                          1642775 non-null  float64        \n",
      " 13  seatsRemaining                     1642775 non-null  int64          \n",
      " 14  totalTravelDistance                1520662 non-null  float64        \n",
      " 15  segmentsDepartureTimeEpochSeconds  1642775 non-null  category       \n",
      " 16  segmentsDepartureTimeRaw           1642775 non-null  category       \n",
      " 17  segmentsArrivalTimeEpochSeconds    1642775 non-null  category       \n",
      " 18  segmentsArrivalTimeRaw             1642775 non-null  category       \n",
      " 19  segmentsArrivalAirportCode         1642775 non-null  category       \n",
      " 20  segmentsDepartureAirportCode       1642775 non-null  category       \n",
      " 21  segmentsAirlineName                1642775 non-null  category       \n",
      " 22  segmentsAirlineCode                1642775 non-null  category       \n",
      " 23  segmentsEquipmentDescription       1611543 non-null  category       \n",
      " 24  segmentsDurationInSeconds          1642775 non-null  category       \n",
      " 25  segmentsDistance                   1625513 non-null  category       \n",
      " 26  segmentsCabinCode                  1642775 non-null  category       \n",
      "dtypes: bool(3), category(16), datetime64[ns](2), float64(3), int64(2), timedelta64[ns](1)\n",
      "memory usage: 838.9 MB\n"
     ]
    }
   ],
   "execution_count": 53
  },
  {
   "cell_type": "markdown",
   "id": "d56c8be55a8728e8",
   "metadata": {},
   "source": [
    "### Rilevazione valori mancanti\n",
    "\n",
    "Tre colonne presentano valori mancanti in alcune istanze: *totalTravelDistance*, *segmentsEquipmentDescription* e *segmentsDistance*."
   ]
  },
  {
   "cell_type": "code",
   "execution_count": 17,
   "id": "93e249e6af4bdf5",
   "metadata": {
    "ExecuteTime": {
     "end_time": "2025-01-14T10:02:25.021203Z",
     "start_time": "2025-01-14T10:02:24.939193Z"
    }
   },
   "outputs": [
    {
     "data": {
      "text/plain": [
       "legId                                     0\n",
       "searchDate                                0\n",
       "flightDate                                0\n",
       "startingAirport                           0\n",
       "destinationAirport                        0\n",
       "fareBasisCode                             0\n",
       "travelDuration                            0\n",
       "elapsedDays                               0\n",
       "isBasicEconomy                            0\n",
       "isRefundable                              0\n",
       "isNonStop                                 0\n",
       "baseFare                                  0\n",
       "totalFare                                 0\n",
       "seatsRemaining                            0\n",
       "totalTravelDistance                  122113\n",
       "segmentsDepartureTimeEpochSeconds         0\n",
       "segmentsDepartureTimeRaw                  0\n",
       "segmentsArrivalTimeEpochSeconds           0\n",
       "segmentsArrivalTimeRaw                    0\n",
       "segmentsArrivalAirportCode                0\n",
       "segmentsDepartureAirportCode              0\n",
       "segmentsAirlineName                       0\n",
       "segmentsAirlineCode                       0\n",
       "segmentsEquipmentDescription          31232\n",
       "segmentsDurationInSeconds                 0\n",
       "segmentsDistance                      17262\n",
       "segmentsCabinCode                         0\n",
       "dtype: int64"
      ]
     },
     "execution_count": 17,
     "metadata": {},
     "output_type": "execute_result"
    }
   ],
   "source": [
    "data.isna().sum()"
   ]
  },
  {
   "cell_type": "markdown",
   "id": "2364882daa1ef927",
   "metadata": {},
   "source": [
    "`describe()` calcola delle statistiche come media, deviazione standard, minimo e massimo per le colonne numeriche."
   ]
  },
  {
   "cell_type": "code",
   "execution_count": 18,
   "id": "a0dd3259fdc68fcb",
   "metadata": {
    "ExecuteTime": {
     "end_time": "2025-01-14T10:02:34.723539Z",
     "start_time": "2025-01-14T10:02:34.271605Z"
    }
   },
   "outputs": [
    {
     "data": {
      "text/html": [
       "<div>\n",
       "<style scoped>\n",
       "    .dataframe tbody tr th:only-of-type {\n",
       "        vertical-align: middle;\n",
       "    }\n",
       "\n",
       "    .dataframe tbody tr th {\n",
       "        vertical-align: top;\n",
       "    }\n",
       "\n",
       "    .dataframe thead th {\n",
       "        text-align: right;\n",
       "    }\n",
       "</style>\n",
       "<table border=\"1\" class=\"dataframe\">\n",
       "  <thead>\n",
       "    <tr style=\"text-align: right;\">\n",
       "      <th></th>\n",
       "      <th>searchDate</th>\n",
       "      <th>flightDate</th>\n",
       "      <th>elapsedDays</th>\n",
       "      <th>baseFare</th>\n",
       "      <th>totalFare</th>\n",
       "      <th>seatsRemaining</th>\n",
       "      <th>totalTravelDistance</th>\n",
       "    </tr>\n",
       "  </thead>\n",
       "  <tbody>\n",
       "    <tr>\n",
       "      <th>count</th>\n",
       "      <td>1642775</td>\n",
       "      <td>1642775</td>\n",
       "      <td>1.642775e+06</td>\n",
       "      <td>1.642775e+06</td>\n",
       "      <td>1.642775e+06</td>\n",
       "      <td>1.642775e+06</td>\n",
       "      <td>1.520662e+06</td>\n",
       "    </tr>\n",
       "    <tr>\n",
       "      <th>mean</th>\n",
       "      <td>2022-07-13 20:21:00.825615104</td>\n",
       "      <td>2022-08-09 17:33:28.178843136</td>\n",
       "      <td>1.499524e-01</td>\n",
       "      <td>2.926479e+02</td>\n",
       "      <td>3.403757e+02</td>\n",
       "      <td>5.975662e+00</td>\n",
       "      <td>1.610111e+03</td>\n",
       "    </tr>\n",
       "    <tr>\n",
       "      <th>min</th>\n",
       "      <td>2022-04-16 00:00:00</td>\n",
       "      <td>2022-04-17 00:00:00</td>\n",
       "      <td>0.000000e+00</td>\n",
       "      <td>1.000000e-02</td>\n",
       "      <td>1.959000e+01</td>\n",
       "      <td>0.000000e+00</td>\n",
       "      <td>8.900000e+01</td>\n",
       "    </tr>\n",
       "    <tr>\n",
       "      <th>25%</th>\n",
       "      <td>2022-06-05 00:00:00</td>\n",
       "      <td>2022-07-02 00:00:00</td>\n",
       "      <td>0.000000e+00</td>\n",
       "      <td>1.585200e+02</td>\n",
       "      <td>1.971000e+02</td>\n",
       "      <td>4.000000e+00</td>\n",
       "      <td>8.760000e+02</td>\n",
       "    </tr>\n",
       "    <tr>\n",
       "      <th>50%</th>\n",
       "      <td>2022-07-15 00:00:00</td>\n",
       "      <td>2022-08-14 00:00:00</td>\n",
       "      <td>0.000000e+00</td>\n",
       "      <td>2.604700e+02</td>\n",
       "      <td>3.051000e+02</td>\n",
       "      <td>7.000000e+00</td>\n",
       "      <td>1.468000e+03</td>\n",
       "    </tr>\n",
       "    <tr>\n",
       "      <th>75%</th>\n",
       "      <td>2022-08-23 00:00:00</td>\n",
       "      <td>2022-09-18 00:00:00</td>\n",
       "      <td>0.000000e+00</td>\n",
       "      <td>3.981400e+02</td>\n",
       "      <td>4.517000e+02</td>\n",
       "      <td>9.000000e+00</td>\n",
       "      <td>2.417000e+03</td>\n",
       "    </tr>\n",
       "    <tr>\n",
       "      <th>max</th>\n",
       "      <td>2022-10-05 00:00:00</td>\n",
       "      <td>2022-11-19 00:00:00</td>\n",
       "      <td>2.000000e+00</td>\n",
       "      <td>7.344190e+03</td>\n",
       "      <td>7.918600e+03</td>\n",
       "      <td>1.000000e+01</td>\n",
       "      <td>7.252000e+03</td>\n",
       "    </tr>\n",
       "    <tr>\n",
       "      <th>std</th>\n",
       "      <td>NaN</td>\n",
       "      <td>NaN</td>\n",
       "      <td>3.570572e-01</td>\n",
       "      <td>1.833097e+02</td>\n",
       "      <td>1.961385e+02</td>\n",
       "      <td>2.881567e+00</td>\n",
       "      <td>8.576063e+02</td>\n",
       "    </tr>\n",
       "  </tbody>\n",
       "</table>\n",
       "</div>"
      ],
      "text/plain": [
       "                          searchDate                     flightDate  \\\n",
       "count                        1642775                        1642775   \n",
       "mean   2022-07-13 20:21:00.825615104  2022-08-09 17:33:28.178843136   \n",
       "min              2022-04-16 00:00:00            2022-04-17 00:00:00   \n",
       "25%              2022-06-05 00:00:00            2022-07-02 00:00:00   \n",
       "50%              2022-07-15 00:00:00            2022-08-14 00:00:00   \n",
       "75%              2022-08-23 00:00:00            2022-09-18 00:00:00   \n",
       "max              2022-10-05 00:00:00            2022-11-19 00:00:00   \n",
       "std                              NaN                            NaN   \n",
       "\n",
       "        elapsedDays      baseFare     totalFare  seatsRemaining  \\\n",
       "count  1.642775e+06  1.642775e+06  1.642775e+06    1.642775e+06   \n",
       "mean   1.499524e-01  2.926479e+02  3.403757e+02    5.975662e+00   \n",
       "min    0.000000e+00  1.000000e-02  1.959000e+01    0.000000e+00   \n",
       "25%    0.000000e+00  1.585200e+02  1.971000e+02    4.000000e+00   \n",
       "50%    0.000000e+00  2.604700e+02  3.051000e+02    7.000000e+00   \n",
       "75%    0.000000e+00  3.981400e+02  4.517000e+02    9.000000e+00   \n",
       "max    2.000000e+00  7.344190e+03  7.918600e+03    1.000000e+01   \n",
       "std    3.570572e-01  1.833097e+02  1.961385e+02    2.881567e+00   \n",
       "\n",
       "       totalTravelDistance  \n",
       "count         1.520662e+06  \n",
       "mean          1.610111e+03  \n",
       "min           8.900000e+01  \n",
       "25%           8.760000e+02  \n",
       "50%           1.468000e+03  \n",
       "75%           2.417000e+03  \n",
       "max           7.252000e+03  \n",
       "std           8.576063e+02  "
      ]
     },
     "execution_count": 18,
     "metadata": {},
     "output_type": "execute_result"
    }
   ],
   "source": [
    "data.describe()"
   ]
  },
  {
   "cell_type": "markdown",
   "id": "ef1308aee08741ef",
   "metadata": {},
   "source": [
    "### Frequenza dati numerici\n",
    "\n",
    "E' possibile osservare la distribuzione dei valori delle colonne numeriche attraverso la funzione `hist()`."
   ]
  },
  {
   "cell_type": "code",
   "execution_count": 19,
   "id": "d9d80508d67008f4",
   "metadata": {
    "ExecuteTime": {
     "end_time": "2025-01-14T10:04:53.047465Z",
     "start_time": "2025-01-14T10:04:51.744284Z"
    }
   },
   "outputs": [
    {
     "data": {
      "text/plain": [
       "array([[<Axes: title={'center': 'searchDate'}>,\n",
       "        <Axes: title={'center': 'flightDate'}>,\n",
       "        <Axes: title={'center': 'elapsedDays'}>],\n",
       "       [<Axes: title={'center': 'baseFare'}>,\n",
       "        <Axes: title={'center': 'totalFare'}>,\n",
       "        <Axes: title={'center': 'seatsRemaining'}>],\n",
       "       [<Axes: title={'center': 'totalTravelDistance'}>, <Axes: >,\n",
       "        <Axes: >]], dtype=object)"
      ]
     },
     "execution_count": 19,
     "metadata": {},
     "output_type": "execute_result"
    },
    {
     "data": {
      "image/png": "[encoded data removed]",
      "text/plain": [
       "<Figure size 1200x800 with 9 Axes>"
      ]
     },
     "metadata": {},
     "output_type": "display_data"
    }
   ],
   "source": [
    "data.hist(edgecolor='black', figsize=(12,8))"
   ]
  },
  {
   "cell_type": "markdown",
   "id": "69bc07b71c26019e",
   "metadata": {},
   "source": [
    "### Frequenza dati categorici\n",
    "\n",
    "Per calcolare invece la frequenza di ciascun valore in una colonna categorica, si è usato `value_counts()`.\n",
    "\n",
    "Considerando le colonne categoriche *startingAirport* e *destinationAirport*, dai seguenti dati emerge che *LAX* è l'aeroporto più trafficato nel dataset, con 161326 voli in partenza e 159716 in arrivo. È seguito da *LGA* e *BOS* per il numero di partenze e da *DFW* per il numero di arrivi."
   ]
  },
  {
   "cell_type": "code",
   "execution_count": 33,
   "id": "626a0a21f80f8991",
   "metadata": {
    "ExecuteTime": {
     "end_time": "2025-01-14T11:51:30.275469Z",
     "start_time": "2025-01-14T11:51:30.250486Z"
    }
   },
   "outputs": [
    {
     "data": {
      "text/plain": [
       "startingAirport\n",
       "LAX    161326\n",
       "LGA    118959\n",
       "BOS    117588\n",
       "SFO    114690\n",
       "DFW    113762\n",
       "ORD    110207\n",
       "CLT    109514\n",
       "ATL    105455\n",
       "MIA     98341\n",
       "PHL     94605\n",
       "DEN     93876\n",
       "DTW     90617\n",
       "JFK     88337\n",
       "EWR     79084\n",
       "OAK     76424\n",
       "IAD     69990\n",
       "Name: count, dtype: int64"
      ]
     },
     "execution_count": 33,
     "metadata": {},
     "output_type": "execute_result"
    }
   ],
   "source": [
    "data['startingAirport'].value_counts()"
   ]
  },
  {
   "cell_type": "code",
   "execution_count": 22,
   "id": "8fca8056551a035f",
   "metadata": {
    "ExecuteTime": {
     "end_time": "2025-01-14T10:16:28.510576Z",
     "start_time": "2025-01-14T10:16:28.493002Z"
    }
   },
   "outputs": [
    {
     "data": {
      "text/plain": [
       "destinationAirport\n",
       "LAX    159716\n",
       "LGA    122006\n",
       "DFW    119330\n",
       "BOS    116588\n",
       "ORD    114424\n",
       "SFO    111751\n",
       "CLT    108115\n",
       "ATL    104001\n",
       "MIA    102136\n",
       "PHL     93958\n",
       "DEN     92487\n",
       "DTW     88913\n",
       "JFK     88009\n",
       "EWR     81703\n",
       "OAK     73236\n",
       "IAD     66402\n",
       "Name: count, dtype: int64"
      ]
     },
     "execution_count": 22,
     "metadata": {},
     "output_type": "execute_result"
    }
   ],
   "source": [
    "data['destinationAirport'].value_counts()"
   ]
  },
  {
   "cell_type": "markdown",
   "id": "e8480258b01ddad4",
   "metadata": {},
   "source": [
    "### Frequenza dati booleani\n",
    "\n",
    "La maggior parte dei voli è di tipo non *basic economy* 1406095 occorrenze rispetto ai soli 236680 di voli *basic economy*. Questo indica che la classe *basic economy* è poco utilizzata."
   ]
  },
  {
   "cell_type": "code",
   "execution_count": 30,
   "id": "30ebb61783493e03",
   "metadata": {
    "ExecuteTime": {
     "end_time": "2025-01-14T11:25:47.382597Z",
     "start_time": "2025-01-14T11:25:47.362599Z"
    }
   },
   "outputs": [
    {
     "data": {
      "text/plain": [
       "isBasicEconomy\n",
       "False    1406095\n",
       "True      236680\n",
       "Name: count, dtype: int64"
      ]
     },
     "execution_count": 30,
     "metadata": {},
     "output_type": "execute_result"
    }
   ],
   "source": [
    "data['isBasicEconomy'].value_counts()"
   ]
  },
  {
   "cell_type": "markdown",
   "id": "ba8d22670b34902",
   "metadata": {},
   "source": [
    "Una grandissima parte dei voli è non *refundlable* 1642756 occorrenze rispetto ai soli 19 voli che consentono il rimborso. Questo significa che la maggior parte delle offerte non prevede il rimorso."
   ]
  },
  {
   "cell_type": "code",
   "execution_count": 31,
   "id": "8da98bcf26458c18",
   "metadata": {
    "ExecuteTime": {
     "end_time": "2025-01-14T11:26:03.909820Z",
     "start_time": "2025-01-14T11:26:03.890766Z"
    }
   },
   "outputs": [
    {
     "data": {
      "text/plain": [
       "isRefundable\n",
       "False    1642756\n",
       "True          19\n",
       "Name: count, dtype: int64"
      ]
     },
     "execution_count": 31,
     "metadata": {},
     "output_type": "execute_result"
    }
   ],
   "source": [
    "data['isRefundable'].value_counts()"
   ]
  },
  {
   "cell_type": "markdown",
   "id": "aeba5573644b7cdd",
   "metadata": {},
   "source": [
    "Una parte consistente dei voli è con fermate, 1201293 occorrenze rispetto ai 441482 voli *non stop*. Questo suggerisce che anche essendo comuni i voli *non stop* la maggior parte dei voli fanno comunque scalo."
   ]
  },
  {
   "cell_type": "code",
   "execution_count": 32,
   "id": "300d4c69294b6ad0",
   "metadata": {
    "ExecuteTime": {
     "end_time": "2025-01-14T11:26:52.503914Z",
     "start_time": "2025-01-14T11:26:52.480081Z"
    }
   },
   "outputs": [
    {
     "data": {
      "text/plain": [
       "isNonStop\n",
       "False    1201293\n",
       "True      441482\n",
       "Name: count, dtype: int64"
      ]
     },
     "execution_count": 32,
     "metadata": {},
     "output_type": "execute_result"
    }
   ],
   "source": [
    "data['isNonStop'].value_counts()"
   ]
  },
  {
   "cell_type": "markdown",
   "id": "40e6917f08f45eed",
   "metadata": {},
   "source": [
    "### Correlazioni tra dati numerici\n",
    "\n",
    "La matrice di correlazione è una matrice quadrata, simmetrica e con gli elementi della diagonale principale tutti uguali ad 1.\n",
    " La correlazione indica la relazione lineare esistente tra due variabili:\n",
    "- 1 significa che le due variabili hanno una relazione lineare diretta, vale a dire che all’aumentare di una aumenta anche l’altra;\n",
    "- 0 significa che non è possibile stabilire fra le due variabili un andamento lineare;\n",
    "- -1 significa che le due variabili hanno una relazione lineare inversa, vale a dire che all’aumentare di una, l’altra diminuisce.\n",
    "\n",
    "\n",
    "Tramite la matrice di correlazione, innanzitutto è possibile notare come il prezzo base (*baseFare*) sia correlato al prezzo totale (*totalFare*), l'importo è lo stesso con l'aggiunta di tasse o spese fisse. Le correlazioni però più importanti sono tra la durata del viaggio (*travelDuration*) con la distanza (*totalDistance*) e tra la distanza e il prezzo base/totale. \n",
    "La prima è una correlazione abbastanza forte, più vicina all'1, indica che la durata è influenzata dalla distanza.\n",
    "Una correlazione di 0.49 tra prezzo e distanza, invece, suggerisce che i voli più lunghi tendono a costare di più, ma ci sono altre variabili che possono influenzare il prezzo (ad esempio, la compagnia aerea, la domanda, la stagione, ecc.), quindi non è una relazione perfetta."
   ]
  },
  {
   "cell_type": "code",
   "id": "96a1b8cdd984e5b9",
   "metadata": {
    "ExecuteTime": {
     "end_time": "2025-01-14T13:19:02.136549Z",
     "start_time": "2025-01-14T13:19:01.472115Z"
    }
   },
   "source": [
    "correlation_matrix = data.select_dtypes(include=['number']).corr()\n",
    "\n",
    "plt.figure(figsize=(10, 8))\n",
    "sns.heatmap(correlation_matrix, annot=True, cmap='coolwarm', fmt=\".2f\")\n",
    "plt.title('Matrice di correlazione')\n",
    "plt.show()"
   ],
   "outputs": [
    {
     "data": {
      "text/plain": [
       "<Figure size 1000x800 with 2 Axes>"
      ],
      "image/png": "[encoded data removed]"
     },
     "metadata": {},
     "output_type": "display_data"
    }
   ],
   "execution_count": 58
  },
  {
   "cell_type": "markdown",
   "id": "436d8d722c06c49d",
   "metadata": {},
   "source": [
    "### Stagionalità"
   ]
  },
  {
   "cell_type": "code",
   "execution_count": 24,
   "id": "5bd9e9314cc4cde6",
   "metadata": {
    "ExecuteTime": {
     "end_time": "2025-01-14T10:56:53.006003Z",
     "start_time": "2025-01-14T10:56:52.668442Z"
    }
   },
   "outputs": [
    {
     "data": {
      "image/png": "[encoded data removed]",
      "text/plain": [
       "<Figure size 1000x600 with 1 Axes>"
      ]
     },
     "metadata": {},
     "output_type": "display_data"
    }
   ],
   "source": [
    "data['month'] = data['flightDate'].dt.to_period('M')\n",
    "monthly_flights = data.groupby('month').size()\n",
    "\n",
    "plt.figure(figsize=(10, 6))\n",
    "monthly_flights.plot(kind='line', marker='o', color='skyblue')\n",
    "plt.xlabel('Mese')\n",
    "plt.ylabel('Numero di voli')\n",
    "plt.grid()\n",
    "plt.show()"
   ]
  },
  {
   "cell_type": "code",
   "execution_count": 50,
   "id": "3a78cd2d8651ca94",
   "metadata": {
    "ExecuteTime": {
     "end_time": "2025-01-09T12:28:42.504686Z",
     "start_time": "2025-01-09T12:28:42.466146Z"
    }
   },
   "outputs": [
    {
     "data": {
      "text/plain": [
       "0          -4 days\n",
       "1          -6 days\n",
       "2          -5 days\n",
       "3         -31 days\n",
       "4         -19 days\n",
       "            ...   \n",
       "1642770   -30 days\n",
       "1642771   -31 days\n",
       "1642772   -31 days\n",
       "1642773   -33 days\n",
       "1642774   -35 days\n",
       "Length: 1642775, dtype: timedelta64[ns]"
      ]
     },
     "execution_count": 50,
     "metadata": {},
     "output_type": "execute_result"
    }
   ],
   "source": [
    "data[\"searchDate\"] - data[\"flightDate\"]"
   ]
  },
  {
   "cell_type": "markdown",
   "id": "c93f8a2a443af8d7",
   "metadata": {},
   "source": [
    "Numero di voli per aeroporto di partenza"
   ]
  },
  {
   "cell_type": "code",
   "execution_count": 61,
   "id": "74ce0fc62c984b47",
   "metadata": {
    "ExecuteTime": {
     "end_time": "2025-01-09T16:04:27.430619Z",
     "start_time": "2025-01-09T16:04:27.354212Z"
    }
   },
   "outputs": [
    {
     "name": "stdout",
     "output_type": "stream",
     "text": [
      "90617\n"
     ]
    }
   ],
   "source": [
    "count = np.sum(data[\"startingAirport\"] == \"DTW\")\n",
    "print(count)"
   ]
  },
  {
   "cell_type": "code",
   "execution_count": 67,
   "id": "7405725a2535881a",
   "metadata": {
    "ExecuteTime": {
     "end_time": "2025-01-09T16:09:07.392592Z",
     "start_time": "2025-01-09T16:09:07.232439Z"
    }
   },
   "outputs": [
    {
     "data": {
      "text/plain": [
       "np.float64(330.6507350717857)"
      ]
     },
     "execution_count": 67,
     "metadata": {},
     "output_type": "execute_result"
    }
   ],
   "source": [
    "np.mean(data[data[\"startingAirport\"] == \"DTW\"][\"totalFare\"])"
   ]
  },
  {
   "cell_type": "code",
   "execution_count": null,
   "id": "5d8c63f1a204cc6b",
   "metadata": {},
   "outputs": [],
   "source": []
  }
 ],
 "metadata": {
  "kernelspec": {
   "display_name": "Python 3 (ipykernel)",
   "language": "python",
   "name": "python3"
  },
  "language_info": {
   "codemirror_mode": {
    "name": "ipython",
    "version": 2
   },
   "file_extension": ".py",
   "mimetype": "text/x-python",
   "name": "python",
   "nbconvert_exporter": "python",
   "pygments_lexer": "ipython2",
   "version": "2.7.6"
  }
 },
 "nbformat": 4,
 "nbformat_minor": 5
}
